{
 "cells": [
  {
   "cell_type": "code",
   "execution_count": null,
   "metadata": {},
   "outputs": [],
   "source": [
    "!nvidia-smi\n",
    "!python --version\n",
    "!python -c \"import torch; print(torch.__version__)\""
   ]
  },
  {
   "cell_type": "code",
   "execution_count": null,
   "metadata": {},
   "outputs": [],
   "source": [
    "!pip install poetry\n",
    "!poetry --version\n",
    "\n",
    "!poetry add toml"
   ]
  },
  {
   "cell_type": "code",
   "execution_count": null,
   "metadata": {},
   "outputs": [],
   "source": [
    "%cd /content\n",
    "\n",
    "!git clone https://github.com/seruva19/flare.git\n",
    "!git clone https://github.com/seruva19/flare-plugins.git /content/flare/plugins\n",
    "%cd /content/flare\n",
    "\n",
    "!poetry install -q\n",
    "!poetry lock\n",
    "\n",
    "!poetry run merge\n",
    "!poetry install -q\n",
    "!poetry lock\n",
    "\n",
    "!poetry show\n",
    "\n",
    "!npm install --silent\n",
    "!npm run build"
   ]
  },
  {
   "cell_type": "code",
   "execution_count": null,
   "metadata": {
    "vscode": {
     "languageId": "julia"
    }
   },
   "outputs": [],
   "source": [
    "%cd /content\n",
    "\n",
    "%env TF_CPP_MIN_LOG_LEVEL=1\n",
    "\n",
    "!apt -y update -qq\n",
    "!wget https://github.com/camenduru/gperftools/releases/download/v1.0/libtcmalloc_minimal.so.4 -O /content/libtcmalloc_minimal.so.4\n",
    "%env LD_PRELOAD=/content/libtcmalloc_minimal.so.4"
   ]
  },
  {
   "cell_type": "code",
   "execution_count": null,
   "metadata": {
    "vscode": {
     "languageId": "julia"
    }
   },
   "outputs": [],
   "source": [
    "!sed -i '/^\\[\"offload_models\"\\]$/,/value = false$/s/value = false$/value = true/' /content/flare/config/flare.toml"
   ]
  },
  {
   "cell_type": "code",
   "execution_count": null,
   "metadata": {},
   "outputs": [],
   "source": [
    "!npm install -g localtunnel\n",
    "lturl = !curl ipv4.icanhazip.com\n",
    "print(f\"\\033[91m{lturl[0]}\\033[0m\")"
   ]
  },
  {
   "cell_type": "code",
   "execution_count": null,
   "metadata": {},
   "outputs": [],
   "source": [
    "%cd /content/flare\n",
    "!kill -9 $(lsof -t -i tcp:8000)\n",
    "!poetry run flare & npx localtunnel --port 8000"
   ]
  }
 ],
 "metadata": {
  "language_info": {
   "name": "python"
  }
 },
 "nbformat": 4,
 "nbformat_minor": 2
}
